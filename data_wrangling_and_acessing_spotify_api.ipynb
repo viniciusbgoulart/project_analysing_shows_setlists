{
 "cells": [
  {
   "cell_type": "code",
   "execution_count": 2,
   "metadata": {},
   "outputs": [],
   "source": [
    "import pandas as pd\n",
    "import json\n",
    "import ast\n",
    "from tqdm import tqdm"
   ]
  },
  {
   "cell_type": "code",
   "execution_count": null,
   "metadata": {},
   "outputs": [],
   "source": [
    "df = pd.read_csv('setlists.csv')"
   ]
  },
  {
   "cell_type": "code",
   "execution_count": null,
   "metadata": {},
   "outputs": [],
   "source": [
    "def open_sets(row):\n",
    "    try:\n",
    "        sets = ast.literal_eval(row)\n",
    "        music_list = [x['name'] for x in sets['set'][0]['song']]\n",
    "        return music_list\n",
    "    except:\n",
    "        return 'no_info'"
   ]
  },
  {
   "cell_type": "code",
   "execution_count": null,
   "metadata": {},
   "outputs": [],
   "source": [
    "#aplica a função em uma coluna   \n",
    "df['music_name'] = df['sets'].apply(open_sets)"
   ]
  },
  {
   "cell_type": "code",
   "execution_count": null,
   "metadata": {},
   "outputs": [],
   "source": [
    "artist_name = []\n",
    "\n",
    "for x in df['artist']:\n",
    "    name_dictionary = ast.literal_eval(x)\n",
    "    artist_name.append(name_dictionary['name'])"
   ]
  },
  {
   "cell_type": "code",
   "execution_count": null,
   "metadata": {},
   "outputs": [],
   "source": [
    "tour_name = []\n",
    "\n",
    "for x in df['tour']:\n",
    "    try:\n",
    "        tour_dictionary = ast.literal_eval(x)\n",
    "        tour_name.append(tour_dictionary['name'])\n",
    "    except:\n",
    "        pass"
   ]
  },
  {
   "cell_type": "code",
   "execution_count": null,
   "metadata": {},
   "outputs": [],
   "source": [
    "venue_name = []\n",
    "city_name = []\n",
    "longitude_list = []\n",
    "latitude_list = []\n",
    "country_real = []\n",
    "\n",
    "for x in df['venue']:\n",
    "    venue_dictionary = ast.literal_eval(x)\n",
    "    venue_name.append(venue_dictionary['name'])\n",
    "    city_name.append(venue_dictionary['city']['name'])\n",
    "    longitude_list.append(venue_dictionary['city']['coords']['long'])\n",
    "    latitude_list.append(venue_dictionary['city']['coords']['lat'])\n",
    "    country_real.append(venue_dictionary['city']['country']['name'])"
   ]
  },
  {
   "cell_type": "code",
   "execution_count": null,
   "metadata": {},
   "outputs": [],
   "source": [
    "df[\"tour_name\"] = pd.Series(tour_name)\n",
    "df['artist_name'] = pd.Series(artist_name)\n",
    "df['venue'] = pd.Series(venue_name)\n",
    "df['city'] = pd.Series(city_name)\n",
    "df['longitude'] = pd.Series(longitude_list)\n",
    "df['latitude'] = pd.Series(latitude_list)\n",
    "df['country'] = pd.Series(country_real)"
   ]
  },
  {
   "cell_type": "code",
   "execution_count": null,
   "metadata": {},
   "outputs": [],
   "source": [
    "df_exploded = df.explode('music_name')"
   ]
  },
  {
   "cell_type": "code",
   "execution_count": null,
   "metadata": {},
   "outputs": [],
   "source": [
    "df_exploded.drop(['versionId','lastUpdated','artist','tour','sets','url','info'], axis=1, inplace = True)"
   ]
  },
  {
   "cell_type": "code",
   "execution_count": null,
   "metadata": {},
   "outputs": [],
   "source": [
    "df_exploded.to_csv('music_data_without_spotify.csv', index=False)"
   ]
  },
  {
   "cell_type": "markdown",
   "metadata": {},
   "source": [
    "### Creating lists with artists names"
   ]
  },
  {
   "cell_type": "code",
   "execution_count": null,
   "metadata": {},
   "outputs": [],
   "source": [
    "artists_name = df_exploded[['artist_name']]"
   ]
  },
  {
   "cell_type": "code",
   "execution_count": null,
   "metadata": {
    "scrolled": true
   },
   "outputs": [],
   "source": [
    "artists_name"
   ]
  },
  {
   "cell_type": "code",
   "execution_count": null,
   "metadata": {},
   "outputs": [],
   "source": [
    "artists_name.drop_duplicates(inplace=True)"
   ]
  },
  {
   "cell_type": "code",
   "execution_count": null,
   "metadata": {},
   "outputs": [],
   "source": [
    "artists_name.reset_index(inplace=True)"
   ]
  },
  {
   "cell_type": "code",
   "execution_count": null,
   "metadata": {
    "scrolled": false
   },
   "outputs": [],
   "source": [
    "artists_name.drop(axis=1,columns='index',inplace=True)"
   ]
  },
  {
   "cell_type": "code",
   "execution_count": null,
   "metadata": {},
   "outputs": [],
   "source": [
    "artists_name_list = list(artists_name['artist_name'])"
   ]
  },
  {
   "cell_type": "code",
   "execution_count": null,
   "metadata": {},
   "outputs": [],
   "source": [
    "spotify_client_id = open('client_id_spotify.txt', 'r').read()\n",
    "spotify_client_secret = open('client_secret_spotify.txt', 'r').read()"
   ]
  },
  {
   "cell_type": "code",
   "execution_count": null,
   "metadata": {},
   "outputs": [],
   "source": [
    "import spotipy\n",
    "from spotipy.oauth2 import SpotifyClientCredentials\n",
    "sp = spotipy.Spotify(auth_manager=SpotifyClientCredentials(client_id=spotify_client_id,client_secret=spotify_client_secret))"
   ]
  },
  {
   "cell_type": "code",
   "execution_count": null,
   "metadata": {
    "scrolled": false
   },
   "outputs": [],
   "source": [
    "artists_info = {}\n",
    "\n",
    "for artist in tqdm(artists_name_list):\n",
    "        artists_info[artist] = sp.search(q=artist,type='artist',limit=1)"
   ]
  },
  {
   "cell_type": "code",
   "execution_count": null,
   "metadata": {},
   "outputs": [],
   "source": [
    "spotify_artists_data = pd.DataFrame()\n",
    "for singer in tqdm(artists_info.keys()):\n",
    "    df_artist_spotify = pd.DataFrame(artists_info[singer]['artists']['items'])\n",
    "    df['artist'] = singer\n",
    "    spotify_artists_data = spotify_artists_data.append(df_artist_spotify)"
   ]
  },
  {
   "cell_type": "code",
   "execution_count": null,
   "metadata": {},
   "outputs": [],
   "source": [
    "spotify_artists_data.reset_index(inplace=True)\n",
    "spotify_artists_data.drop('index',axis=1,inplace=True)"
   ]
  },
  {
   "cell_type": "code",
   "execution_count": null,
   "metadata": {},
   "outputs": [],
   "source": [
    "followers = []\n",
    "for x in spotify_artists_data['followers']:\n",
    "    follower_dict = dict(spotify_artists_data['followers'])\n",
    "    for n in follower_dict.keys():\n",
    "        followers.append(follower_dict[n]['total'])"
   ]
  },
  {
   "cell_type": "code",
   "execution_count": null,
   "metadata": {
    "scrolled": true
   },
   "outputs": [],
   "source": [
    "spotify_artists_data[\"qty_followers\"] = pd.Series(followers)\n",
    "spotify_artists_data.drop('followers',axis=1,inplace=True)"
   ]
  },
  {
   "cell_type": "code",
   "execution_count": null,
   "metadata": {},
   "outputs": [],
   "source": [
    "spotify_artists_data.drop(['external_urls','genres','href','images','type','uri'],axis=1,inplace=True)"
   ]
  },
  {
   "cell_type": "code",
   "execution_count": null,
   "metadata": {},
   "outputs": [],
   "source": [
    "spotify_artists_data.to_csv('artists_spotify.csv',index=False)"
   ]
  },
  {
   "cell_type": "code",
   "execution_count": null,
   "metadata": {},
   "outputs": [],
   "source": [
    "id_list = list(spotify_artists_data['id'])"
   ]
  },
  {
   "cell_type": "code",
   "execution_count": null,
   "metadata": {},
   "outputs": [],
   "source": [
    "albums_info = {}\n",
    "\n",
    "for id in tqdm(id_list):\n",
    "        albums_info[id] = sp.artist_albums(id)"
   ]
  },
  {
   "cell_type": "code",
   "execution_count": null,
   "metadata": {},
   "outputs": [],
   "source": [
    "spotify_albums_data = pd.DataFrame()\n",
    "for id in tqdm(albums_info.keys()):\n",
    "    df_albums_spotify = pd.DataFrame(albums_info[id]['items'])\n",
    "    spotify_albums_data = spotify_albums_data.append(df_albums_spotify)"
   ]
  },
  {
   "cell_type": "code",
   "execution_count": null,
   "metadata": {
    "scrolled": true
   },
   "outputs": [],
   "source": [
    "spotify_albums_data.drop(['album_group','available_markets','external_urls','href','images','uri'], axis=1 ,inplace=True)"
   ]
  },
  {
   "cell_type": "code",
   "execution_count": null,
   "metadata": {},
   "outputs": [],
   "source": [
    "spotify_albums_data.reset_index(inplace=True)"
   ]
  },
  {
   "cell_type": "code",
   "execution_count": null,
   "metadata": {},
   "outputs": [],
   "source": [
    "spotify_albums_data.drop('index', axis=1 ,inplace=True)"
   ]
  },
  {
   "cell_type": "code",
   "execution_count": null,
   "metadata": {},
   "outputs": [],
   "source": [
    "artist_id = []\n",
    "artist_name = []\n",
    "\n",
    "for x in tqdm(range(len(spotify_albums_data['artists']))):\n",
    "    artist_name.append(spotify_albums_data['artists'][x][0]['name'])\n",
    "    artist_id.append(spotify_albums_data['artists'][x][0]['id'])"
   ]
  },
  {
   "cell_type": "code",
   "execution_count": null,
   "metadata": {},
   "outputs": [],
   "source": [
    "spotify_albums_data[\"artist_name\"] = pd.Series(artist_name)\n",
    "spotify_albums_data['artist_id'] = pd.Series(artist_id)"
   ]
  },
  {
   "cell_type": "code",
   "execution_count": null,
   "metadata": {},
   "outputs": [],
   "source": [
    "spotify_albums_data.drop(['album_type','artists'],axis=1,inplace=True)"
   ]
  },
  {
   "cell_type": "code",
   "execution_count": null,
   "metadata": {},
   "outputs": [],
   "source": [
    "spotify_albums_data.to_csv('spotify_albums_data.csv')"
   ]
  },
  {
   "cell_type": "code",
   "execution_count": 3,
   "metadata": {},
   "outputs": [],
   "source": [
    "spotify_albums_data = pd.read_csv('spotify_albums_data.csv')"
   ]
  },
  {
   "cell_type": "code",
   "execution_count": 4,
   "metadata": {
    "scrolled": true
   },
   "outputs": [],
   "source": [
    "albums_id = list(spotify_albums_data['id'])"
   ]
  },
  {
   "cell_type": "code",
   "execution_count": 5,
   "metadata": {},
   "outputs": [],
   "source": [
    "albums_id = spotify_albums_data['id']"
   ]
  },
  {
   "cell_type": "code",
   "execution_count": null,
   "metadata": {},
   "outputs": [],
   "source": [
    "albums_id_1 = albums_id[:20001]\n",
    "albums_id_2 = albums_id[20001:40001]\n",
    "albums_id_3 = albums_id[40001:]\n"
   ]
  },
  {
   "cell_type": "code",
   "execution_count": null,
   "metadata": {},
   "outputs": [],
   "source": [
    "tracks_info_1 = {}\n",
    "\n",
    "for id in tqdm(albums_id_1):\n",
    "        tracks_info_1[id] = sp.album_tracks(id)"
   ]
  },
  {
   "cell_type": "code",
   "execution_count": null,
   "metadata": {},
   "outputs": [],
   "source": [
    "spotify_tracks_data_1 = pd.DataFrame()\n",
    "for id in tqdm(tracks_info.keys()):\n",
    "    df_tracks_spotify = pd.DataFrame(tracks_info[id]['items'])\n",
    "    spotify_tracks_data_1 = spotify_tracks_data.append(df_albums_spotify)"
   ]
  }
 ],
 "metadata": {
  "kernelspec": {
   "display_name": "Python 3",
   "language": "python",
   "name": "python3"
  },
  "language_info": {
   "codemirror_mode": {
    "name": "ipython",
    "version": 3
   },
   "file_extension": ".py",
   "mimetype": "text/x-python",
   "name": "python",
   "nbconvert_exporter": "python",
   "pygments_lexer": "ipython3",
   "version": "3.8.5"
  }
 },
 "nbformat": 4,
 "nbformat_minor": 4
}
