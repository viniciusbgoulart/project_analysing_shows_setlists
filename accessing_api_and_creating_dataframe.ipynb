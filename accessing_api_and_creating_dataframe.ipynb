{
 "cells": [
  {
   "cell_type": "code",
   "execution_count": 1,
   "metadata": {},
   "outputs": [],
   "source": [
    "import pandas as pd\n",
    "from repertorio import Repertorio\n",
    "api = Repertorio('v5Ef7FH5x_VwGVK5Jjr77vQX4yU8rdctBMMq')\n",
    "from tqdm import tqdm\n",
    "import time"
   ]
  },
  {
   "cell_type": "code",
   "execution_count": 2,
   "metadata": {
    "scrolled": true
   },
   "outputs": [
    {
     "name": "stderr",
     "output_type": "stream",
     "text": [
      "  0%|                                                                                           | 0/25 [00:00<?, ?it/s]HTTP exception: HTTPError('404 Client Error: Not Found for url: https://api.setlist.fm/rest/1.0/venue/3bd70ca8/setlists?p=8')\n",
      "  4%|███▎                                                                               | 1/25 [00:13<05:15, 13.17s/it]HTTP exception: HTTPError('404 Client Error: Not Found for url: https://api.setlist.fm/rest/1.0/venue/43d03347/setlists?p=2')\n",
      "  8%|██████▋                                                                            | 2/25 [00:15<03:47,  9.88s/it]HTTP exception: HTTPError('404 Client Error: Not Found for url: https://api.setlist.fm/rest/1.0/venue/2bd660aa/setlists?p=9')\n",
      " 12%|█████████▉                                                                         | 3/25 [00:29<04:04, 11.10s/it]HTTP exception: HTTPError('404 Client Error: Not Found for url: https://api.setlist.fm/rest/1.0/venue/1bd63db4/setlists?p=11')\n",
      " 16%|█████████████▎                                                                     | 4/25 [00:46<04:33, 13.02s/it]HTTP exception: HTTPError('404 Client Error: Not Found for url: https://api.setlist.fm/rest/1.0/venue/6bd41616/setlists?p=9')\n",
      " 20%|████████████████▌                                                                  | 5/25 [01:00<04:24, 13.25s/it]HTTP exception: HTTPError('404 Client Error: Not Found for url: https://api.setlist.fm/rest/1.0/venue/43d77f2f/setlists?p=15')\n",
      " 24%|███████████████████▉                                                               | 6/25 [01:26<05:22, 16.98s/it]HTTP exception: HTTPError('404 Client Error: Not Found for url: https://api.setlist.fm/rest/1.0/venue/5bd63790/setlists?p=10')\n",
      " 28%|███████████████████████▏                                                           | 7/25 [01:42<05:01, 16.77s/it]HTTP exception: HTTPError('404 Client Error: Not Found for url: https://api.setlist.fm/rest/1.0/venue/7bd576d0/setlists?p=3')\n",
      " 32%|██████████████████████████▌                                                        | 8/25 [01:46<03:39, 12.89s/it]HTTP exception: HTTPError('404 Client Error: Not Found for url: https://api.setlist.fm/rest/1.0/venue/43d71f37/setlists?p=7')\n",
      " 36%|█████████████████████████████▉                                                     | 9/25 [01:56<03:14, 12.15s/it]HTTP exception: HTTPError('404 Client Error: Not Found for url: https://api.setlist.fm/rest/1.0/venue/33c9ecd5/setlists?p=1')\n",
      " 40%|████████████████████████████████▊                                                 | 10/25 [01:57<02:09,  8.65s/it]HTTP exception: HTTPError('404 Client Error: Not Found for url: https://api.setlist.fm/rest/1.0/venue/13d0b545/setlists?p=4')\n",
      " 44%|████████████████████████████████████                                              | 11/25 [02:02<01:47,  7.70s/it]HTTP exception: HTTPError('404 Client Error: Not Found for url: https://api.setlist.fm/rest/1.0/venue/1bd62178/setlists?p=16')\n",
      " 48%|███████████████████████████████████████▎                                          | 12/25 [02:29<02:54, 13.40s/it]HTTP exception: HTTPError('404 Client Error: Not Found for url: https://api.setlist.fm/rest/1.0/venue/1bd62540/setlists?p=8')\n",
      " 52%|██████████████████████████████████████████▋                                       | 13/25 [02:42<02:38, 13.21s/it]HTTP exception: HTTPError('404 Client Error: Not Found for url: https://api.setlist.fm/rest/1.0/venue/2bd6c086/setlists?p=49')\n",
      " 56%|█████████████████████████████████████████████▉                                    | 14/25 [04:05<06:16, 34.27s/it]HTTP exception: HTTPError('404 Client Error: Not Found for url: https://api.setlist.fm/rest/1.0/venue/3bd6c4d8/setlists?p=12')\n",
      " 60%|█████████████████████████████████████████████████▏                                | 15/25 [04:25<04:58, 29.88s/it]HTTP exception: HTTPError('404 Client Error: Not Found for url: https://api.setlist.fm/rest/1.0/venue/4bd63716/setlists?p=18')\n",
      " 64%|████████████████████████████████████████████████████▍                             | 16/25 [04:55<04:28, 29.85s/it]HTTP exception: HTTPError('404 Client Error: Not Found for url: https://api.setlist.fm/rest/1.0/venue/43d6379f/setlists?p=8')\n",
      " 68%|███████████████████████████████████████████████████████▊                          | 17/25 [05:08<03:18, 24.78s/it]HTTP exception: HTTPError('404 Client Error: Not Found for url: https://api.setlist.fm/rest/1.0/venue/7bd62eb4/setlists?p=21')\n",
      " 72%|███████████████████████████████████████████████████████████                       | 18/25 [05:44<03:17, 28.24s/it]HTTP exception: HTTPError('404 Client Error: Not Found for url: https://api.setlist.fm/rest/1.0/venue/5bd6379c/setlists?p=19')\n",
      " 76%|██████████████████████████████████████████████████████████████▎                   | 19/25 [06:17<02:57, 29.60s/it]HTTP exception: HTTPError('404 Client Error: Not Found for url: https://api.setlist.fm/rest/1.0/venue/4bd6370a/setlists?p=40')\n",
      " 80%|█████████████████████████████████████████████████████████████████▌                | 20/25 [07:26<03:27, 41.53s/it]HTTP exception: HTTPError('404 Client Error: Not Found for url: https://api.setlist.fm/rest/1.0/venue/3e4fd5b/setlists?p=1')\n",
      " 84%|████████████████████████████████████████████████████████████████████▉             | 21/25 [07:26<01:56, 29.15s/it]HTTP exception: HTTPError('429 Client Error: Too Many Requests for url: https://api.setlist.fm/rest/1.0/venue/63d6367b/setlists?p=1')\n",
      " 88%|████████████████████████████████████████████████████████████████████████▏         | 22/25 [07:27<01:01, 20.56s/it]HTTP exception: HTTPError('404 Client Error: Not Found for url: https://api.setlist.fm/rest/1.0/venue/53d61fc9/setlists?p=2')\n",
      " 92%|███████████████████████████████████████████████████████████████████████████▍      | 23/25 [07:29<00:30, 15.10s/it]HTTP exception: HTTPError('404 Client Error: Not Found for url: https://api.setlist.fm/rest/1.0/venue/3d6251b/setlists?p=12')\n",
      " 96%|██████████████████████████████████████████████████████████████████████████████▋   | 24/25 [07:48<00:16, 16.33s/it]HTTP exception: HTTPError('404 Client Error: Not Found for url: https://api.setlist.fm/rest/1.0/venue/53d63be5/setlists?p=87')\n",
      "100%|██████████████████████████████████████████████████████████████████████████████████| 25/25 [10:17<00:00, 24.71s/it]\n"
     ]
    }
   ],
   "source": [
    "list_df_1 = []\n",
    "\n",
    "venues_list_1 = ['3bd70ca8',\n",
    "'43d03347',\n",
    "'2bd660aa',\n",
    "'1bd63db4',\n",
    "'6bd41616',\n",
    "'43d77f2f',\n",
    "'5bd63790',\n",
    "'7bd576d0',\n",
    "'43d71f37',\n",
    "'33c9ecd5',\n",
    "'13d0b545',\n",
    "'1bd62178',\n",
    "'1bd62540',\n",
    "'2bd6c086',\n",
    "'3bd6c4d8',\n",
    "'4bd63716',\n",
    "'43d6379f',\n",
    "'7bd62eb4',\n",
    "'5bd6379c',\n",
    "'4bd6370a',\n",
    "'3e4fd5b',\n",
    "'63d6367b',\n",
    "'53d61fc9',\n",
    "'3d6251b',\n",
    "'53d63be5']\n",
    "\n",
    "for venue in tqdm(venues_list_1):\n",
    "    try:\n",
    "        for x in range(1,500):\n",
    "            raw_db = api.venue_setlists(venue,p=x)\n",
    "            time.sleep(1)\n",
    "            df = pd.DataFrame(raw_db['setlist'])\n",
    "            list_df_1.append(df)\n",
    "    except:\n",
    "        pass\n",
    "\n",
    "    \n",
    "df_final_1 = pd.concat(list_df_1)"
   ]
  },
  {
   "cell_type": "code",
   "execution_count": 3,
   "metadata": {},
   "outputs": [],
   "source": [
    "df_final_1.to_csv('setlists_2.csv', index=False)"
   ]
  },
  {
   "cell_type": "code",
   "execution_count": null,
   "metadata": {},
   "outputs": [],
   "source": []
  }
 ],
 "metadata": {
  "kernelspec": {
   "display_name": "Python 3",
   "language": "python",
   "name": "python3"
  },
  "language_info": {
   "codemirror_mode": {
    "name": "ipython",
    "version": 3
   },
   "file_extension": ".py",
   "mimetype": "text/x-python",
   "name": "python",
   "nbconvert_exporter": "python",
   "pygments_lexer": "ipython3",
   "version": "3.8.5"
  }
 },
 "nbformat": 4,
 "nbformat_minor": 4
}
